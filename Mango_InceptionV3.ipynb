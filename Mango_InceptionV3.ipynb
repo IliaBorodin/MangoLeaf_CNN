{
  "nbformat": 4,
  "nbformat_minor": 0,
  "metadata": {
    "colab": {
      "provenance": [],
      "collapsed_sections": [
        "3KRsuF1THyL2",
        "z2HTj7NxLYf8",
        "TLzlXxMgIYfs",
        "OhLhALyInBLw",
        "rYv24v5G6Qo9"
      ],
      "gpuType": "T4"
    },
    "kernelspec": {
      "name": "python3",
      "display_name": "Python 3"
    },
    "language_info": {
      "name": "python"
    },
    "accelerator": "GPU"
  },
  "cells": [
    {
      "cell_type": "markdown",
      "source": [
        "# 1. Данные\n"
      ],
      "metadata": {
        "id": "3KRsuF1THyL2"
      }
    },
    {
      "cell_type": "markdown",
      "source": [
        "Подключаем библиотеки\n"
      ],
      "metadata": {
        "id": "Py9gkifpH_Sd"
      }
    },
    {
      "cell_type": "code",
      "execution_count": null,
      "metadata": {
        "id": "8Z0U6E-EHRN2"
      },
      "outputs": [],
      "source": [
        "import shutil #Библиотека для обработки файлов, групп файлов, и папок\n",
        "import os #Библиотека для работы файловой системы\n",
        "import zipfile #Библиотека для работы zip-файлов\n",
        "from google.colab import drive #Модуль для работы Google Disk\n",
        "from PIL import Image #Модуль для работы с изображениями"
      ]
    },
    {
      "cell_type": "markdown",
      "source": [
        "Получаем  ссылку для аутентификации Google-Disk\n"
      ],
      "metadata": {
        "id": "VPsOGt2GIeE6"
      }
    },
    {
      "cell_type": "code",
      "source": [
        "drive.mount('/content/drive')"
      ],
      "metadata": {
        "id": "1KvkO-pdIHPx",
        "colab": {
          "base_uri": "https://localhost:8080/"
        },
        "outputId": "c4f03e75-e626-4667-b9e5-d5f36358312d"
      },
      "execution_count": null,
      "outputs": [
        {
          "output_type": "stream",
          "name": "stdout",
          "text": [
            "Mounted at /content/drive\n"
          ]
        }
      ]
    },
    {
      "cell_type": "markdown",
      "source": [
        "Находим нужный архив с датасетом и извлекаем все"
      ],
      "metadata": {
        "id": "0npAxsEvI36D"
      }
    },
    {
      "cell_type": "code",
      "source": [
        "zip_file = '/content/drive/MyDrive/CNN_mango/mango_dataset.zip'\n",
        "z = zipfile.ZipFile(zip_file, 'r')\n",
        "z.extractall()"
      ],
      "metadata": {
        "id": "kEzqg4flIlJO"
      },
      "execution_count": null,
      "outputs": []
    },
    {
      "cell_type": "code",
      "source": [
        "# Каталог с набором данных\n",
        "data_dir = '/content/mango_dataset'\n",
        "# Каталог с данными для обучения\n",
        "train_dir = 'train'\n",
        "# Каталог с данными для проверки\n",
        "val_dir = 'val'\n",
        "# Каталог с данными для тестирования\n",
        "test_dir = 'test'\n",
        "# Часть набора данных для проверки\n",
        "val_data_portion = 0.2\n",
        "# Часть набора данных для тестирования\n",
        "test_data_portion = 0.1\n",
        "# Количество элементов данных в одном классе\n",
        "nb_images = 500"
      ],
      "metadata": {
        "id": "a6dDxetEJBWZ"
      },
      "execution_count": null,
      "outputs": []
    },
    {
      "cell_type": "markdown",
      "source": [
        "Функция для создания train, test, val директорий"
      ],
      "metadata": {
        "id": "kGdqqpYcKTi3"
      }
    },
    {
      "cell_type": "code",
      "source": [
        "def create_directory(dir_name):\n",
        "    if os.path.exists(dir_name):\n",
        "        shutil.rmtree(dir_name)\n",
        "    os.makedirs(dir_name)\n",
        "    os.makedirs(os.path.join(dir_name, \"Anthracnose\"))\n",
        "    os.makedirs(os.path.join(dir_name, \"Bacterial Canker\"))\n",
        "    os.makedirs(os.path.join(dir_name, \"Cutting Weevil\"))\n",
        "    os.makedirs(os.path.join(dir_name, \"Die Back\"))\n",
        "    os.makedirs(os.path.join(dir_name, \"Gall Midge\"))\n",
        "    os.makedirs(os.path.join(dir_name, \"Healthy\"))\n",
        "    os.makedirs(os.path.join(dir_name, \"Powdery Mildew\"))\n",
        "    os.makedirs(os.path.join(dir_name, \"Sooty Mould\"))"
      ],
      "metadata": {
        "id": "cZIVNEP9KByG"
      },
      "execution_count": null,
      "outputs": []
    },
    {
      "cell_type": "code",
      "source": [
        "create_directory(train_dir) # Создание train-директории\n",
        "create_directory(val_dir) # Создание val-директории\n",
        "create_directory(test_dir)"
      ],
      "metadata": {
        "id": "UPTJmqxUKGai"
      },
      "execution_count": null,
      "outputs": []
    },
    {
      "cell_type": "markdown",
      "source": [
        "Функция для копирования данных в нужную директорию"
      ],
      "metadata": {
        "id": "jjQK5gp9Ky9z"
      }
    },
    {
      "cell_type": "code",
      "source": [
        "def copy_images(start_index, end_index, source_dir, dest_dir):\n",
        "    for i in range(start_index+1, end_index+1):\n",
        "        shutil.copy2(os.path.join(source_dir ,  \"Anthracnose (\" + str(i) + \").jpg\"),\n",
        "                    os.path.join(dest_dir, \"Anthracnose\")) #1\n",
        "\n",
        "        shutil.copy2(os.path.join(source_dir ,  \"Bacterial Canker (\" + str(i) + \").jpg\"),\n",
        "                   os.path.join(dest_dir, \"Bacterial Canker\")) #2\n",
        "\n",
        "        shutil.copy2(os.path.join(source_dir ,  \"Cutting Weevil (\" + str(i) + \").jpg\"),\n",
        "                   os.path.join(dest_dir, \"Cutting Weevil\")) #3\n",
        "\n",
        "        shutil.copy2(os.path.join(source_dir ,  \"Die Back (\" + str(i) + \").jpg\"),\n",
        "                   os.path.join(dest_dir, \"Die Back\")) #4\n",
        "\n",
        "        shutil.copy2(os.path.join(source_dir,  \"Gall Midge (\" + str(i) + \").jpg\"),\n",
        "                   os.path.join(dest_dir , \"Gall Midge\")) #5\n",
        "\n",
        "        shutil.copy2(os.path.join(source_dir,  \"Healthy (\" + str(i) + \").jpg\"),\n",
        "                   os.path.join(dest_dir , \"Healthy\")) #6\n",
        "\n",
        "        shutil.copy2(os.path.join(source_dir,  \"Powdery Mildew (\" + str(i) + \").jpg\"),\n",
        "                   os.path.join(dest_dir , \"Powdery Mildew\")) #7\n",
        "\n",
        "        shutil.copy2(os.path.join(source_dir ,  \"Sooty Mould (\" + str(i) + \").jpg\"),\n",
        "                   os.path.join(dest_dir, \"Sooty Mould\")) #8"
      ],
      "metadata": {
        "id": "a4r3YVu0KKa-"
      },
      "execution_count": null,
      "outputs": []
    },
    {
      "cell_type": "markdown",
      "source": [
        "Высчитываем вспомогательные данные"
      ],
      "metadata": {
        "id": "QLH5Gez3LEaa"
      }
    },
    {
      "cell_type": "code",
      "source": [
        "start_val_data_idx = int(nb_images * (1 - val_data_portion - test_data_portion))\n",
        "start_test_data_idx = int(nb_images * (1 - test_data_portion))\n",
        "print(start_val_data_idx)\n",
        "print(start_test_data_idx)"
      ],
      "metadata": {
        "id": "PhgJDJAOKPoi",
        "colab": {
          "base_uri": "https://localhost:8080/"
        },
        "outputId": "d8a52c5a-d98e-4017-f0be-1dfe6f6a6ba9"
      },
      "execution_count": null,
      "outputs": [
        {
          "output_type": "stream",
          "name": "stdout",
          "text": [
            "350\n",
            "450\n"
          ]
        }
      ]
    },
    {
      "cell_type": "code",
      "source": [
        "copy_images(0, start_val_data_idx, data_dir, train_dir)\n",
        "copy_images(start_val_data_idx, start_test_data_idx, data_dir, val_dir)\n",
        "copy_images(start_test_data_idx, nb_images, data_dir, test_dir)"
      ],
      "metadata": {
        "id": "pCBMPDuZKR-b"
      },
      "execution_count": null,
      "outputs": []
    },
    {
      "cell_type": "markdown",
      "source": [
        "# 2. Создание модели InceptionV3. Загрузка изображений в модель. Сохрание изображений.\n",
        "\n",
        "> Блок с отступами\n",
        "\n"
      ],
      "metadata": {
        "id": "z2HTj7NxLYf8"
      }
    },
    {
      "cell_type": "code",
      "source": [
        "from keras.preprocessing.image import ImageDataGenerator\n",
        "from keras.models import Sequential, Model\n",
        "from keras.layers import Dropout, Flatten, Dense\n",
        "from keras.applications.inception_v3 import InceptionV3\n",
        "from keras.callbacks import ModelCheckpoint\n",
        "from keras.optimizers import SGD\n",
        "\n",
        "\n",
        "import numpy as np\n",
        "import pandas as pd\n",
        "import h5py\n",
        "\n",
        "import matplotlib.pyplot as plt"
      ],
      "metadata": {
        "id": "pJt8QEPpLgan"
      },
      "execution_count": null,
      "outputs": []
    },
    {
      "cell_type": "code",
      "source": [
        "# Каталог с данными для обучения\n",
        "train_dir = 'train'\n",
        "# Каталог с данными для проверки\n",
        "val_dir = 'val'\n",
        "# Каталог с данными для тестирования\n",
        "test_dir = 'test'\n",
        "# Размеры изображения\n",
        "img_width, img_height = 224, 224\n",
        "# Размерность тензора на основе изображения для входных данных в нейронную сеть\n",
        "# backend Tensorflow, channels_last\n",
        "input_shape = (img_width, img_height, 3)\n",
        "# Размер мини-выборки\n",
        "batch_size = 16\n",
        "# Количество изображений для обучения\n",
        "nb_train_samples = 2800\n",
        "# Количество изображений для проверки\n",
        "nb_validation_samples = 800\n",
        "# Количество изображений для тестирования\n",
        "nb_test_samples = 400\n"
      ],
      "metadata": {
        "id": "pXEFCnSAEmyu"
      },
      "execution_count": null,
      "outputs": []
    },
    {
      "cell_type": "markdown",
      "source": [
        "Создание предобученной сети InceptionV3\n"
      ],
      "metadata": {
        "id": "Xi3mNFs9Dpz8"
      }
    },
    {
      "cell_type": "code",
      "source": [
        "InceptionV3_model=InceptionV3(include_top=False,\n",
        "                      weights='imagenet',\n",
        "                      input_shape=((224, 224, 3)))"
      ],
      "metadata": {
        "id": "g1bVWBXqDUM_",
        "colab": {
          "base_uri": "https://localhost:8080/"
        },
        "outputId": "b96efc5a-e6bd-4ba1-a1fc-3cdd59f1719e"
      },
      "execution_count": null,
      "outputs": [
        {
          "output_type": "stream",
          "name": "stdout",
          "text": [
            "Downloading data from https://storage.googleapis.com/tensorflow/keras-applications/inception_v3/inception_v3_weights_tf_dim_ordering_tf_kernels_notop.h5\n",
            "87910968/87910968 [==============================] - 5s 0us/step\n"
          ]
        }
      ]
    },
    {
      "cell_type": "code",
      "source": [
        "datagen = ImageDataGenerator(rescale=1. / 255) #Создание генератора"
      ],
      "metadata": {
        "id": "ZHog705JEEtt"
      },
      "execution_count": null,
      "outputs": []
    },
    {
      "cell_type": "code",
      "source": [
        "train_generator = datagen.flow_from_directory(\n",
        "    train_dir,\n",
        "    target_size=(img_width, img_height),\n",
        "    batch_size=batch_size,\n",
        "    classes = ['Anthracnose','Bacterial Canker','Cutting Weevil','Die Back','Gall Midge','Healthy','Powdery Mildew','Sooty Mould'],\n",
        "    class_mode='categorical')"
      ],
      "metadata": {
        "colab": {
          "base_uri": "https://localhost:8080/"
        },
        "id": "JcoH1tKcEdA6",
        "outputId": "5b6161db-7f5f-4260-e3f8-de9430330413"
      },
      "execution_count": null,
      "outputs": [
        {
          "output_type": "stream",
          "name": "stdout",
          "text": [
            "Found 2800 images belonging to 8 classes.\n"
          ]
        }
      ]
    },
    {
      "cell_type": "code",
      "source": [
        "val_generator = datagen.flow_from_directory(\n",
        "    val_dir,\n",
        "    target_size=(img_width, img_height),\n",
        "    batch_size=batch_size,\n",
        "    classes = ['Anthracnose','Bacterial Canker','Cutting Weevil','Die Back','Gall Midge','Healthy','Powdery Mildew','Sooty Mould'],\n",
        "    class_mode='categorical')"
      ],
      "metadata": {
        "colab": {
          "base_uri": "https://localhost:8080/"
        },
        "id": "QfgEm-M_EeoU",
        "outputId": "b0d7e2c4-7fd3-4c4c-ec87-ed12a504a50e"
      },
      "execution_count": null,
      "outputs": [
        {
          "output_type": "stream",
          "name": "stdout",
          "text": [
            "Found 800 images belonging to 8 classes.\n"
          ]
        }
      ]
    },
    {
      "cell_type": "code",
      "source": [
        "bottleneck_features_train = InceptionV3_model.predict_generator(train_generator, nb_train_samples)\n",
        "np.save(open('bn_features_train.npy', 'wb'), bottleneck_features_train)\n",
        "\n",
        "bottleneck_features_validation = InceptionV3_model.predict_generator(val_generator, nb_validation_samples)\n",
        "np.save(open('bn_features_validation.npy', 'wb'), bottleneck_features_validation)"
      ],
      "metadata": {
        "colab": {
          "base_uri": "https://localhost:8080/"
        },
        "id": "TRqE4RSiIFXJ",
        "outputId": "551def77-2f38-4272-ae39-3a3bf68d8446"
      },
      "execution_count": null,
      "outputs": [
        {
          "output_type": "stream",
          "name": "stderr",
          "text": [
            "<ipython-input-16-78d81055e2b1>:1: UserWarning: `Model.predict_generator` is deprecated and will be removed in a future version. Please use `Model.predict`, which supports generators.\n",
            "  bottleneck_features_train = InceptionV3_model.predict_generator(train_generator, nb_train_samples)\n",
            "WARNING:tensorflow:Your input ran out of data; interrupting training. Make sure that your dataset or generator can generate at least `steps_per_epoch * epochs` batches (in this case, 2800 batches). You may need to use the repeat() function when building your dataset.\n",
            "<ipython-input-16-78d81055e2b1>:4: UserWarning: `Model.predict_generator` is deprecated and will be removed in a future version. Please use `Model.predict`, which supports generators.\n",
            "  bottleneck_features_validation = InceptionV3_model.predict_generator(val_generator, nb_validation_samples)\n",
            "WARNING:tensorflow:Your input ran out of data; interrupting training. Make sure that your dataset or generator can generate at least `steps_per_epoch * epochs` batches (in this case, 800 batches). You may need to use the repeat() function when building your dataset.\n"
          ]
        }
      ]
    },
    {
      "cell_type": "markdown",
      "source": [
        "# 3. Создание верхней части модели. Загрузка данных в модель. Сохрание данных."
      ],
      "metadata": {
        "id": "TLzlXxMgIYfs"
      }
    },
    {
      "cell_type": "code",
      "source": [
        "train_data = np.load(open('bn_features_train.npy', 'rb'))\n",
        "train_labels = np.array([0] * 350 + [1] * 350 + [2] * 350 + [3] * 350 + [4] * 350 + [5] * 350 + [6] * 350 + [7] * 350)\n",
        "\n",
        "validation_data = np.load(open('bn_features_validation.npy', 'rb'))\n",
        "validation_labels = np.array([0] * 100 + [1] * 100 + [2] * 100 + [3] * 100 + [4] * 100 + [5] * 100 + [6] * 100 + [7] * 100)"
      ],
      "metadata": {
        "id": "X_mMwb12Imo5"
      },
      "execution_count": null,
      "outputs": []
    },
    {
      "cell_type": "markdown",
      "source": [
        "Создадание модели FFN сети и её компиляция"
      ],
      "metadata": {
        "id": "wiSyzv-Nl_jS"
      }
    },
    {
      "cell_type": "code",
      "source": [
        "# Создание\n",
        "fc_model = Sequential()\n",
        "fc_model.add(Flatten(input_shape=train_data.shape[1:]))\n",
        "fc_model.add(Dense(64, activation='relu')) # Первый Dense-слой\n",
        "fc_model.add(Dropout(0.5, name='dropout_one')) # Первый Dropout-слой\n",
        "fc_model.add(Dense(64, activation='relu')) # Второй Dense-слой\n",
        "fc_model.add(Dropout(0.5, name='dropout_two')) # Второй Dropout-слой\n",
        "fc_model.add(Dense(8, activation='softmax')) # Выходной слой\n",
        "# Компиляция\n",
        "fc_model.compile(optimizer='rmsprop',\n",
        "              loss='sparse_categorical_crossentropy',\n",
        "              metrics=['accuracy'])"
      ],
      "metadata": {
        "id": "sNr4gK_CkxdF"
      },
      "execution_count": null,
      "outputs": []
    },
    {
      "cell_type": "code",
      "source": [
        "fc_model.fit(train_data, train_labels,\n",
        "            epochs=50, batch_size=16,\n",
        "            validation_data=(validation_data, validation_labels))\n",
        "\n",
        "fc_model.save_weights('fc_InceptionV3_mango.hdf5') # сохраняем веса"
      ],
      "metadata": {
        "id": "zald-HC-mQ6U",
        "colab": {
          "base_uri": "https://localhost:8080/"
        },
        "outputId": "c8fae27c-c5e6-4cf9-b056-b20cd375b857"
      },
      "execution_count": null,
      "outputs": [
        {
          "output_type": "stream",
          "name": "stdout",
          "text": [
            "Epoch 1/50\n",
            "175/175 [==============================] - 5s 16ms/step - loss: 3.0443 - accuracy: 0.1221 - val_loss: 2.0795 - val_accuracy: 0.1250\n",
            "Epoch 2/50\n",
            "175/175 [==============================] - 1s 5ms/step - loss: 2.1056 - accuracy: 0.1193 - val_loss: 2.0795 - val_accuracy: 0.1250\n",
            "Epoch 3/50\n",
            "175/175 [==============================] - 1s 5ms/step - loss: 2.1275 - accuracy: 0.1171 - val_loss: 2.0795 - val_accuracy: 0.1250\n",
            "Epoch 4/50\n",
            "175/175 [==============================] - 1s 4ms/step - loss: 2.0951 - accuracy: 0.1268 - val_loss: 2.0795 - val_accuracy: 0.1250\n",
            "Epoch 5/50\n",
            "175/175 [==============================] - 1s 5ms/step - loss: 2.0928 - accuracy: 0.1171 - val_loss: 2.0795 - val_accuracy: 0.1250\n",
            "Epoch 6/50\n",
            "175/175 [==============================] - 1s 5ms/step - loss: 2.0853 - accuracy: 0.1100 - val_loss: 2.0795 - val_accuracy: 0.1250\n",
            "Epoch 7/50\n",
            "175/175 [==============================] - 1s 5ms/step - loss: 2.0874 - accuracy: 0.1079 - val_loss: 2.0795 - val_accuracy: 0.1250\n",
            "Epoch 8/50\n",
            "175/175 [==============================] - 1s 5ms/step - loss: 2.0991 - accuracy: 0.1254 - val_loss: 2.0795 - val_accuracy: 0.1250\n",
            "Epoch 9/50\n",
            "175/175 [==============================] - 1s 5ms/step - loss: 2.0791 - accuracy: 0.1154 - val_loss: 2.0795 - val_accuracy: 0.1250\n",
            "Epoch 10/50\n",
            "175/175 [==============================] - 1s 5ms/step - loss: 2.0889 - accuracy: 0.1114 - val_loss: 2.0795 - val_accuracy: 0.1250\n",
            "Epoch 11/50\n",
            "175/175 [==============================] - 1s 5ms/step - loss: 2.0795 - accuracy: 0.1282 - val_loss: 2.0795 - val_accuracy: 0.1250\n",
            "Epoch 12/50\n",
            "175/175 [==============================] - 1s 5ms/step - loss: 2.0800 - accuracy: 0.1193 - val_loss: 2.0795 - val_accuracy: 0.1250\n",
            "Epoch 13/50\n",
            "175/175 [==============================] - 1s 5ms/step - loss: 2.0797 - accuracy: 0.1271 - val_loss: 2.0794 - val_accuracy: 0.1250\n",
            "Epoch 14/50\n",
            "175/175 [==============================] - 1s 5ms/step - loss: 2.0817 - accuracy: 0.1186 - val_loss: 2.0794 - val_accuracy: 0.1250\n",
            "Epoch 15/50\n",
            "175/175 [==============================] - 1s 6ms/step - loss: 2.0800 - accuracy: 0.1071 - val_loss: 2.0794 - val_accuracy: 0.1250\n",
            "Epoch 16/50\n",
            "175/175 [==============================] - 1s 7ms/step - loss: 2.0797 - accuracy: 0.1157 - val_loss: 2.0794 - val_accuracy: 0.1250\n",
            "Epoch 17/50\n",
            "175/175 [==============================] - 1s 6ms/step - loss: 2.0795 - accuracy: 0.1111 - val_loss: 2.0795 - val_accuracy: 0.1250\n",
            "Epoch 18/50\n",
            "175/175 [==============================] - 1s 5ms/step - loss: 2.0799 - accuracy: 0.1239 - val_loss: 2.0795 - val_accuracy: 0.1250\n",
            "Epoch 19/50\n",
            "175/175 [==============================] - 1s 5ms/step - loss: 2.0800 - accuracy: 0.1139 - val_loss: 2.0795 - val_accuracy: 0.1250\n",
            "Epoch 20/50\n",
            "175/175 [==============================] - 1s 5ms/step - loss: 2.0793 - accuracy: 0.1171 - val_loss: 2.0794 - val_accuracy: 0.1250\n",
            "Epoch 21/50\n",
            "175/175 [==============================] - 1s 5ms/step - loss: 2.0844 - accuracy: 0.1218 - val_loss: 2.0794 - val_accuracy: 0.1250\n",
            "Epoch 22/50\n",
            "175/175 [==============================] - 1s 5ms/step - loss: 2.0792 - accuracy: 0.1186 - val_loss: 2.0794 - val_accuracy: 0.1250\n",
            "Epoch 23/50\n",
            "175/175 [==============================] - 1s 6ms/step - loss: 2.0799 - accuracy: 0.1207 - val_loss: 2.0794 - val_accuracy: 0.1250\n",
            "Epoch 24/50\n",
            "175/175 [==============================] - 1s 5ms/step - loss: 2.0801 - accuracy: 0.1182 - val_loss: 2.0794 - val_accuracy: 0.1250\n",
            "Epoch 25/50\n",
            "175/175 [==============================] - 1s 5ms/step - loss: 2.0806 - accuracy: 0.1218 - val_loss: 2.0794 - val_accuracy: 0.1250\n",
            "Epoch 26/50\n",
            "175/175 [==============================] - 1s 5ms/step - loss: 2.0799 - accuracy: 0.1139 - val_loss: 2.0794 - val_accuracy: 0.1250\n",
            "Epoch 27/50\n",
            "175/175 [==============================] - 1s 5ms/step - loss: 2.0798 - accuracy: 0.1136 - val_loss: 2.0794 - val_accuracy: 0.1250\n",
            "Epoch 28/50\n",
            "175/175 [==============================] - 1s 5ms/step - loss: 2.0805 - accuracy: 0.1264 - val_loss: 2.0795 - val_accuracy: 0.1250\n",
            "Epoch 29/50\n",
            "175/175 [==============================] - 1s 5ms/step - loss: 2.0795 - accuracy: 0.1204 - val_loss: 2.0795 - val_accuracy: 0.1250\n",
            "Epoch 30/50\n",
            "175/175 [==============================] - 1s 6ms/step - loss: 2.0796 - accuracy: 0.1221 - val_loss: 2.0795 - val_accuracy: 0.1250\n",
            "Epoch 31/50\n",
            "175/175 [==============================] - 1s 7ms/step - loss: 2.0797 - accuracy: 0.1193 - val_loss: 2.0795 - val_accuracy: 0.1250\n",
            "Epoch 32/50\n",
            "175/175 [==============================] - 1s 6ms/step - loss: 2.0798 - accuracy: 0.1196 - val_loss: 2.0794 - val_accuracy: 0.1250\n",
            "Epoch 33/50\n",
            "175/175 [==============================] - 1s 5ms/step - loss: 2.0801 - accuracy: 0.1129 - val_loss: 2.0794 - val_accuracy: 0.1250\n",
            "Epoch 34/50\n",
            "175/175 [==============================] - 1s 5ms/step - loss: 2.0798 - accuracy: 0.1164 - val_loss: 2.0794 - val_accuracy: 0.1250\n",
            "Epoch 35/50\n",
            "175/175 [==============================] - 1s 5ms/step - loss: 2.0798 - accuracy: 0.1211 - val_loss: 2.0794 - val_accuracy: 0.1250\n",
            "Epoch 36/50\n",
            "175/175 [==============================] - 1s 5ms/step - loss: 2.0798 - accuracy: 0.1164 - val_loss: 2.0794 - val_accuracy: 0.1250\n",
            "Epoch 37/50\n",
            "175/175 [==============================] - 1s 5ms/step - loss: 2.0798 - accuracy: 0.1143 - val_loss: 2.0794 - val_accuracy: 0.1250\n",
            "Epoch 38/50\n",
            "175/175 [==============================] - 1s 5ms/step - loss: 2.0797 - accuracy: 0.1225 - val_loss: 2.0794 - val_accuracy: 0.1250\n",
            "Epoch 39/50\n",
            "175/175 [==============================] - 1s 5ms/step - loss: 2.0798 - accuracy: 0.1136 - val_loss: 2.0794 - val_accuracy: 0.1250\n",
            "Epoch 40/50\n",
            "175/175 [==============================] - 1s 5ms/step - loss: 2.0798 - accuracy: 0.1146 - val_loss: 2.0795 - val_accuracy: 0.1250\n",
            "Epoch 41/50\n",
            "175/175 [==============================] - 1s 5ms/step - loss: 2.0798 - accuracy: 0.1104 - val_loss: 2.0795 - val_accuracy: 0.1250\n",
            "Epoch 42/50\n",
            "175/175 [==============================] - 1s 5ms/step - loss: 2.0797 - accuracy: 0.1150 - val_loss: 2.0795 - val_accuracy: 0.1250\n",
            "Epoch 43/50\n",
            "175/175 [==============================] - 1s 5ms/step - loss: 2.0796 - accuracy: 0.1218 - val_loss: 2.0795 - val_accuracy: 0.1250\n",
            "Epoch 44/50\n",
            "175/175 [==============================] - 1s 6ms/step - loss: 2.0798 - accuracy: 0.1143 - val_loss: 2.0795 - val_accuracy: 0.1250\n",
            "Epoch 45/50\n",
            "175/175 [==============================] - 1s 6ms/step - loss: 2.0798 - accuracy: 0.1146 - val_loss: 2.0794 - val_accuracy: 0.1250\n",
            "Epoch 46/50\n",
            "175/175 [==============================] - 1s 7ms/step - loss: 2.0796 - accuracy: 0.1236 - val_loss: 2.0794 - val_accuracy: 0.1250\n",
            "Epoch 47/50\n",
            "175/175 [==============================] - 1s 6ms/step - loss: 2.0798 - accuracy: 0.1150 - val_loss: 2.0794 - val_accuracy: 0.1250\n",
            "Epoch 48/50\n",
            "175/175 [==============================] - 1s 5ms/step - loss: 2.0799 - accuracy: 0.1086 - val_loss: 2.0794 - val_accuracy: 0.1250\n",
            "Epoch 49/50\n",
            "175/175 [==============================] - 1s 5ms/step - loss: 2.0799 - accuracy: 0.1150 - val_loss: 2.0795 - val_accuracy: 0.1250\n",
            "Epoch 50/50\n",
            "175/175 [==============================] - 1s 5ms/step - loss: 2.0797 - accuracy: 0.1150 - val_loss: 2.0794 - val_accuracy: 0.1250\n"
          ]
        }
      ]
    },
    {
      "cell_type": "code",
      "source": [
        "fc_model.evaluate(validation_data, validation_labels)"
      ],
      "metadata": {
        "id": "r9n36hf-m_1Z",
        "colab": {
          "base_uri": "https://localhost:8080/"
        },
        "outputId": "41b17bc9-1f1f-478d-c52e-80ff85ba486b"
      },
      "execution_count": null,
      "outputs": [
        {
          "output_type": "stream",
          "name": "stdout",
          "text": [
            "25/25 [==============================] - 0s 5ms/step - loss: 2.0794 - accuracy: 0.1250\n"
          ]
        },
        {
          "output_type": "execute_result",
          "data": {
            "text/plain": [
              "[2.0794429779052734, 0.125]"
            ]
          },
          "metadata": {},
          "execution_count": 20
        }
      ]
    },
    {
      "cell_type": "markdown",
      "source": [
        "# 4. Создание итоговой модели, загрузка в неё аугментированных данных, сохрание весов"
      ],
      "metadata": {
        "id": "OhLhALyInBLw"
      }
    },
    {
      "cell_type": "code",
      "source": [
        "weights_filename='fc_InceptionV3_mango.hdf5'\n",
        "\n",
        "x = Flatten()(InceptionV3_model.output)\n",
        "x = Dense(64, activation='relu')(x)\n",
        "x = Dropout(0.5)(x)\n",
        "x = Dense(64, activation='relu')(x)\n",
        "x = Dropout(0.5)(x)\n",
        "top_model=Dense(8, activation='softmax')(x)\n",
        "model = Model(InceptionV3_model.input, top_model)\n",
        "model.load_weights(weights_filename, by_name=True)"
      ],
      "metadata": {
        "id": "x8a8oLkenNFV"
      },
      "execution_count": null,
      "outputs": []
    },
    {
      "cell_type": "code",
      "source": [
        "for layer in InceptionV3_model.layers[:205]:\n",
        "    layer.trainable = False"
      ],
      "metadata": {
        "id": "3aypIL3P1-SX"
      },
      "execution_count": null,
      "outputs": []
    },
    {
      "cell_type": "code",
      "source": [
        "model.compile(loss='categorical_crossentropy',\n",
        "              optimizer=SGD(lr=1e-4, momentum=0.9),\n",
        "              metrics=['accuracy'])"
      ],
      "metadata": {
        "id": "2NPMMKUZ32NB",
        "colab": {
          "base_uri": "https://localhost:8080/"
        },
        "outputId": "dff223a1-6a60-4c5f-aca3-425d5cab2d2e"
      },
      "execution_count": null,
      "outputs": [
        {
          "output_type": "stream",
          "name": "stderr",
          "text": [
            "/usr/local/lib/python3.10/dist-packages/keras/optimizers/legacy/gradient_descent.py:114: UserWarning: The `lr` argument is deprecated, use `learning_rate` instead.\n",
            "  super().__init__(name, **kwargs)\n"
          ]
        }
      ]
    },
    {
      "cell_type": "markdown",
      "source": [
        "Сделаем так, чтобы в процессе обучения сохранялись только веса с наибольшей точностью на тестовой выборке:"
      ],
      "metadata": {
        "id": "ldQTDqrl4eH1"
      }
    },
    {
      "cell_type": "code",
      "source": [
        "filepath=\"weights-improvement.h5\"\n",
        "checkpoint = ModelCheckpoint(filepath, monitor='val_accuracy', verbose=1, save_best_only=True, mode='max')\n",
        "callbacks_list = [checkpoint]"
      ],
      "metadata": {
        "id": "NR3gfolnG1Au"
      },
      "execution_count": null,
      "outputs": []
    },
    {
      "cell_type": "code",
      "source": [
        "train_datagen = ImageDataGenerator(\n",
        "        rescale=1./255,\n",
        "        shear_range=0.2,\n",
        "        zoom_range=0.2,\n",
        "        horizontal_flip=True)\n",
        "\n",
        "test_datagen = ImageDataGenerator(rescale=1./255)\n",
        "\n",
        "train_generator2 = train_datagen.flow_from_directory(\n",
        "        train_dir,\n",
        "        target_size=(224, 224),\n",
        "        batch_size=16,\n",
        "        class_mode='categorical')\n",
        "\n",
        "validation_generator = test_datagen.flow_from_directory(\n",
        "        val_dir,\n",
        "        target_size=(224, 224),\n",
        "        batch_size=16,\n",
        "        class_mode='categorical')\n"
      ],
      "metadata": {
        "colab": {
          "base_uri": "https://localhost:8080/"
        },
        "id": "YCat0qa8Hslx",
        "outputId": "244adc23-8bdc-425a-f6b2-6ff7a687a85d"
      },
      "execution_count": null,
      "outputs": [
        {
          "output_type": "stream",
          "name": "stdout",
          "text": [
            "Found 2800 images belonging to 8 classes.\n",
            "Found 800 images belonging to 8 classes.\n"
          ]
        }
      ]
    },
    {
      "cell_type": "code",
      "source": [
        "  model.fit_generator(\n",
        "        train_generator2,\n",
        "        steps_per_epoch=nb_train_samples // 16,\n",
        "        epochs=50,\n",
        "        validation_data=validation_generator,\n",
        "         validation_steps=nb_validation_samples // 16,\n",
        "        callbacks=callbacks_list)"
      ],
      "metadata": {
        "id": "UASTYXhS5cdS",
        "colab": {
          "base_uri": "https://localhost:8080/"
        },
        "outputId": "1b341731-427f-4858-b941-4d12d483ea47"
      },
      "execution_count": null,
      "outputs": [
        {
          "output_type": "stream",
          "name": "stderr",
          "text": [
            "<ipython-input-26-7b6e6d5097aa>:1: UserWarning: `Model.fit_generator` is deprecated and will be removed in a future version. Please use `Model.fit`, which supports generators.\n",
            "  model.fit_generator(\n"
          ]
        },
        {
          "output_type": "stream",
          "name": "stdout",
          "text": [
            "Epoch 1/50\n",
            "175/175 [==============================] - ETA: 0s - loss: 1.9950 - accuracy: 0.2186\n",
            "Epoch 1: val_accuracy improved from -inf to 0.46125, saving model to weights-improvement.h5\n",
            "175/175 [==============================] - 52s 256ms/step - loss: 1.9950 - accuracy: 0.2186 - val_loss: 1.5955 - val_accuracy: 0.4613\n",
            "Epoch 2/50\n",
            "175/175 [==============================] - ETA: 0s - loss: 1.7102 - accuracy: 0.3307\n",
            "Epoch 2: val_accuracy improved from 0.46125 to 0.56875, saving model to weights-improvement.h5\n",
            "175/175 [==============================] - 41s 234ms/step - loss: 1.7102 - accuracy: 0.3307 - val_loss: 1.4050 - val_accuracy: 0.5688\n",
            "Epoch 3/50\n",
            "175/175 [==============================] - ETA: 0s - loss: 1.5246 - accuracy: 0.4175\n",
            "Epoch 3: val_accuracy improved from 0.56875 to 0.68875, saving model to weights-improvement.h5\n",
            "175/175 [==============================] - 46s 265ms/step - loss: 1.5246 - accuracy: 0.4175 - val_loss: 1.1572 - val_accuracy: 0.6888\n",
            "Epoch 4/50\n",
            "175/175 [==============================] - ETA: 0s - loss: 1.2928 - accuracy: 0.5168\n",
            "Epoch 4: val_accuracy improved from 0.68875 to 0.80625, saving model to weights-improvement.h5\n",
            "175/175 [==============================] - 46s 265ms/step - loss: 1.2928 - accuracy: 0.5168 - val_loss: 0.8562 - val_accuracy: 0.8062\n",
            "Epoch 5/50\n",
            "175/175 [==============================] - ETA: 0s - loss: 1.1240 - accuracy: 0.5864\n",
            "Epoch 5: val_accuracy improved from 0.80625 to 0.84250, saving model to weights-improvement.h5\n",
            "175/175 [==============================] - 41s 233ms/step - loss: 1.1240 - accuracy: 0.5864 - val_loss: 0.6422 - val_accuracy: 0.8425\n",
            "Epoch 6/50\n",
            "175/175 [==============================] - ETA: 0s - loss: 0.9318 - accuracy: 0.6664\n",
            "Epoch 6: val_accuracy improved from 0.84250 to 0.84750, saving model to weights-improvement.h5\n",
            "175/175 [==============================] - 41s 233ms/step - loss: 0.9318 - accuracy: 0.6664 - val_loss: 0.5487 - val_accuracy: 0.8475\n",
            "Epoch 7/50\n",
            "175/175 [==============================] - ETA: 0s - loss: 0.8149 - accuracy: 0.7068\n",
            "Epoch 7: val_accuracy improved from 0.84750 to 0.88125, saving model to weights-improvement.h5\n",
            "175/175 [==============================] - 43s 244ms/step - loss: 0.8149 - accuracy: 0.7068 - val_loss: 0.4561 - val_accuracy: 0.8813\n",
            "Epoch 8/50\n",
            "175/175 [==============================] - ETA: 0s - loss: 0.7387 - accuracy: 0.7454\n",
            "Epoch 8: val_accuracy did not improve from 0.88125\n",
            "175/175 [==============================] - 41s 233ms/step - loss: 0.7387 - accuracy: 0.7454 - val_loss: 0.4057 - val_accuracy: 0.8800\n",
            "Epoch 9/50\n",
            "175/175 [==============================] - ETA: 0s - loss: 0.6110 - accuracy: 0.7875\n",
            "Epoch 9: val_accuracy improved from 0.88125 to 0.89750, saving model to weights-improvement.h5\n",
            "175/175 [==============================] - 41s 233ms/step - loss: 0.6110 - accuracy: 0.7875 - val_loss: 0.3542 - val_accuracy: 0.8975\n",
            "Epoch 10/50\n",
            "175/175 [==============================] - ETA: 0s - loss: 0.5675 - accuracy: 0.8050\n",
            "Epoch 10: val_accuracy did not improve from 0.89750\n",
            "175/175 [==============================] - 42s 238ms/step - loss: 0.5675 - accuracy: 0.8050 - val_loss: 0.3511 - val_accuracy: 0.8938\n",
            "Epoch 11/50\n",
            "175/175 [==============================] - ETA: 0s - loss: 0.5235 - accuracy: 0.8171\n",
            "Epoch 11: val_accuracy improved from 0.89750 to 0.90250, saving model to weights-improvement.h5\n",
            "175/175 [==============================] - 41s 232ms/step - loss: 0.5235 - accuracy: 0.8171 - val_loss: 0.3278 - val_accuracy: 0.9025\n",
            "Epoch 12/50\n",
            "175/175 [==============================] - ETA: 0s - loss: 0.4524 - accuracy: 0.8421\n",
            "Epoch 12: val_accuracy improved from 0.90250 to 0.90875, saving model to weights-improvement.h5\n",
            "175/175 [==============================] - 41s 235ms/step - loss: 0.4524 - accuracy: 0.8421 - val_loss: 0.2999 - val_accuracy: 0.9087\n",
            "Epoch 13/50\n",
            "175/175 [==============================] - ETA: 0s - loss: 0.4716 - accuracy: 0.8443\n",
            "Epoch 13: val_accuracy improved from 0.90875 to 0.91250, saving model to weights-improvement.h5\n",
            "175/175 [==============================] - 42s 243ms/step - loss: 0.4716 - accuracy: 0.8443 - val_loss: 0.2945 - val_accuracy: 0.9125\n",
            "Epoch 14/50\n",
            "175/175 [==============================] - ETA: 0s - loss: 0.3545 - accuracy: 0.8793\n",
            "Epoch 14: val_accuracy did not improve from 0.91250\n",
            "175/175 [==============================] - 40s 230ms/step - loss: 0.3545 - accuracy: 0.8793 - val_loss: 0.2883 - val_accuracy: 0.9125\n",
            "Epoch 15/50\n",
            "175/175 [==============================] - ETA: 0s - loss: 0.3425 - accuracy: 0.8811\n",
            "Epoch 15: val_accuracy improved from 0.91250 to 0.91875, saving model to weights-improvement.h5\n",
            "175/175 [==============================] - 42s 242ms/step - loss: 0.3425 - accuracy: 0.8811 - val_loss: 0.2838 - val_accuracy: 0.9187\n",
            "Epoch 16/50\n",
            "175/175 [==============================] - ETA: 0s - loss: 0.3353 - accuracy: 0.8829\n",
            "Epoch 16: val_accuracy did not improve from 0.91875\n",
            "175/175 [==============================] - 40s 230ms/step - loss: 0.3353 - accuracy: 0.8829 - val_loss: 0.2867 - val_accuracy: 0.9162\n",
            "Epoch 17/50\n",
            "175/175 [==============================] - ETA: 0s - loss: 0.3117 - accuracy: 0.8982\n",
            "Epoch 17: val_accuracy improved from 0.91875 to 0.93125, saving model to weights-improvement.h5\n",
            "175/175 [==============================] - 41s 235ms/step - loss: 0.3117 - accuracy: 0.8982 - val_loss: 0.2255 - val_accuracy: 0.9312\n",
            "Epoch 18/50\n",
            "175/175 [==============================] - ETA: 0s - loss: 0.2694 - accuracy: 0.9021\n",
            "Epoch 18: val_accuracy improved from 0.93125 to 0.93250, saving model to weights-improvement.h5\n",
            "175/175 [==============================] - 43s 247ms/step - loss: 0.2694 - accuracy: 0.9021 - val_loss: 0.2303 - val_accuracy: 0.9325\n",
            "Epoch 19/50\n",
            "175/175 [==============================] - ETA: 0s - loss: 0.2980 - accuracy: 0.9029\n",
            "Epoch 19: val_accuracy did not improve from 0.93250\n",
            "175/175 [==============================] - 41s 232ms/step - loss: 0.2980 - accuracy: 0.9029 - val_loss: 0.2308 - val_accuracy: 0.9275\n",
            "Epoch 20/50\n",
            "175/175 [==============================] - ETA: 0s - loss: 0.2542 - accuracy: 0.9143\n",
            "Epoch 20: val_accuracy did not improve from 0.93250\n",
            "175/175 [==============================] - 41s 232ms/step - loss: 0.2542 - accuracy: 0.9143 - val_loss: 0.2220 - val_accuracy: 0.9325\n",
            "Epoch 21/50\n",
            "175/175 [==============================] - ETA: 0s - loss: 0.2736 - accuracy: 0.9057\n",
            "Epoch 21: val_accuracy improved from 0.93250 to 0.93875, saving model to weights-improvement.h5\n",
            "175/175 [==============================] - 45s 259ms/step - loss: 0.2736 - accuracy: 0.9057 - val_loss: 0.1893 - val_accuracy: 0.9388\n",
            "Epoch 22/50\n",
            "175/175 [==============================] - ETA: 0s - loss: 0.2630 - accuracy: 0.9193\n",
            "Epoch 22: val_accuracy did not improve from 0.93875\n",
            "175/175 [==============================] - 44s 250ms/step - loss: 0.2630 - accuracy: 0.9193 - val_loss: 0.2171 - val_accuracy: 0.9312\n",
            "Epoch 23/50\n",
            "175/175 [==============================] - ETA: 0s - loss: 0.2397 - accuracy: 0.9200\n",
            "Epoch 23: val_accuracy improved from 0.93875 to 0.94250, saving model to weights-improvement.h5\n",
            "175/175 [==============================] - 44s 253ms/step - loss: 0.2397 - accuracy: 0.9200 - val_loss: 0.2019 - val_accuracy: 0.9425\n",
            "Epoch 24/50\n",
            "175/175 [==============================] - ETA: 0s - loss: 0.2197 - accuracy: 0.9264\n",
            "Epoch 24: val_accuracy did not improve from 0.94250\n",
            "175/175 [==============================] - 41s 232ms/step - loss: 0.2197 - accuracy: 0.9264 - val_loss: 0.2047 - val_accuracy: 0.9362\n",
            "Epoch 25/50\n",
            "175/175 [==============================] - ETA: 0s - loss: 0.2084 - accuracy: 0.9246\n",
            "Epoch 25: val_accuracy did not improve from 0.94250\n",
            "175/175 [==============================] - 43s 244ms/step - loss: 0.2084 - accuracy: 0.9246 - val_loss: 0.2505 - val_accuracy: 0.9287\n",
            "Epoch 26/50\n",
            "175/175 [==============================] - ETA: 0s - loss: 0.2069 - accuracy: 0.9325\n",
            "Epoch 26: val_accuracy did not improve from 0.94250\n",
            "175/175 [==============================] - 43s 245ms/step - loss: 0.2069 - accuracy: 0.9325 - val_loss: 0.2435 - val_accuracy: 0.9400\n",
            "Epoch 27/50\n",
            "175/175 [==============================] - ETA: 0s - loss: 0.1900 - accuracy: 0.9343\n",
            "Epoch 27: val_accuracy did not improve from 0.94250\n",
            "175/175 [==============================] - 42s 240ms/step - loss: 0.1900 - accuracy: 0.9343 - val_loss: 0.2540 - val_accuracy: 0.9287\n",
            "Epoch 28/50\n",
            "175/175 [==============================] - ETA: 0s - loss: 0.1740 - accuracy: 0.9429\n",
            "Epoch 28: val_accuracy did not improve from 0.94250\n",
            "175/175 [==============================] - 42s 239ms/step - loss: 0.1740 - accuracy: 0.9429 - val_loss: 0.2394 - val_accuracy: 0.9287\n",
            "Epoch 29/50\n",
            "175/175 [==============================] - ETA: 0s - loss: 0.1735 - accuracy: 0.9368\n",
            "Epoch 29: val_accuracy did not improve from 0.94250\n",
            "175/175 [==============================] - 41s 233ms/step - loss: 0.1735 - accuracy: 0.9368 - val_loss: 0.2403 - val_accuracy: 0.9337\n",
            "Epoch 30/50\n",
            "175/175 [==============================] - ETA: 0s - loss: 0.1859 - accuracy: 0.9346\n",
            "Epoch 30: val_accuracy did not improve from 0.94250\n",
            "175/175 [==============================] - 43s 243ms/step - loss: 0.1859 - accuracy: 0.9346 - val_loss: 0.2556 - val_accuracy: 0.9388\n",
            "Epoch 31/50\n",
            "175/175 [==============================] - ETA: 0s - loss: 0.1734 - accuracy: 0.9443\n",
            "Epoch 31: val_accuracy did not improve from 0.94250\n",
            "175/175 [==============================] - 42s 240ms/step - loss: 0.1734 - accuracy: 0.9443 - val_loss: 0.2556 - val_accuracy: 0.9337\n",
            "Epoch 32/50\n",
            "175/175 [==============================] - ETA: 0s - loss: 0.1552 - accuracy: 0.9479\n",
            "Epoch 32: val_accuracy did not improve from 0.94250\n",
            "175/175 [==============================] - 40s 226ms/step - loss: 0.1552 - accuracy: 0.9479 - val_loss: 0.2521 - val_accuracy: 0.9337\n",
            "Epoch 33/50\n",
            "175/175 [==============================] - ETA: 0s - loss: 0.1616 - accuracy: 0.9496\n",
            "Epoch 33: val_accuracy did not improve from 0.94250\n",
            "175/175 [==============================] - 40s 227ms/step - loss: 0.1616 - accuracy: 0.9496 - val_loss: 0.2753 - val_accuracy: 0.9312\n",
            "Epoch 34/50\n",
            "175/175 [==============================] - ETA: 0s - loss: 0.1772 - accuracy: 0.9400\n",
            "Epoch 34: val_accuracy did not improve from 0.94250\n",
            "175/175 [==============================] - 40s 227ms/step - loss: 0.1772 - accuracy: 0.9400 - val_loss: 0.2050 - val_accuracy: 0.9413\n",
            "Epoch 35/50\n",
            "175/175 [==============================] - ETA: 0s - loss: 0.1383 - accuracy: 0.9532\n",
            "Epoch 35: val_accuracy did not improve from 0.94250\n",
            "175/175 [==============================] - 39s 224ms/step - loss: 0.1383 - accuracy: 0.9532 - val_loss: 0.2405 - val_accuracy: 0.9375\n",
            "Epoch 36/50\n",
            "175/175 [==============================] - ETA: 0s - loss: 0.1531 - accuracy: 0.9468\n",
            "Epoch 36: val_accuracy improved from 0.94250 to 0.94375, saving model to weights-improvement.h5\n",
            "175/175 [==============================] - 43s 246ms/step - loss: 0.1531 - accuracy: 0.9468 - val_loss: 0.2216 - val_accuracy: 0.9438\n",
            "Epoch 37/50\n",
            "175/175 [==============================] - ETA: 0s - loss: 0.1477 - accuracy: 0.9482\n",
            "Epoch 37: val_accuracy did not improve from 0.94375\n",
            "175/175 [==============================] - 41s 231ms/step - loss: 0.1477 - accuracy: 0.9482 - val_loss: 0.2159 - val_accuracy: 0.9413\n",
            "Epoch 38/50\n",
            "175/175 [==============================] - ETA: 0s - loss: 0.1348 - accuracy: 0.9536\n",
            "Epoch 38: val_accuracy did not improve from 0.94375\n",
            "175/175 [==============================] - 41s 232ms/step - loss: 0.1348 - accuracy: 0.9536 - val_loss: 0.2292 - val_accuracy: 0.9425\n",
            "Epoch 39/50\n",
            "175/175 [==============================] - ETA: 0s - loss: 0.1521 - accuracy: 0.9489\n",
            "Epoch 39: val_accuracy did not improve from 0.94375\n",
            "175/175 [==============================] - 40s 230ms/step - loss: 0.1521 - accuracy: 0.9489 - val_loss: 0.2716 - val_accuracy: 0.9325\n",
            "Epoch 40/50\n",
            "175/175 [==============================] - ETA: 0s - loss: 0.1369 - accuracy: 0.9543\n",
            "Epoch 40: val_accuracy did not improve from 0.94375\n",
            "175/175 [==============================] - 42s 238ms/step - loss: 0.1369 - accuracy: 0.9543 - val_loss: 0.2333 - val_accuracy: 0.9375\n",
            "Epoch 41/50\n",
            "175/175 [==============================] - ETA: 0s - loss: 0.1214 - accuracy: 0.9582\n",
            "Epoch 41: val_accuracy did not improve from 0.94375\n",
            "175/175 [==============================] - 40s 230ms/step - loss: 0.1214 - accuracy: 0.9582 - val_loss: 0.2456 - val_accuracy: 0.9425\n",
            "Epoch 42/50\n",
            "175/175 [==============================] - ETA: 0s - loss: 0.1191 - accuracy: 0.9586\n",
            "Epoch 42: val_accuracy did not improve from 0.94375\n",
            "175/175 [==============================] - 40s 230ms/step - loss: 0.1191 - accuracy: 0.9586 - val_loss: 0.2466 - val_accuracy: 0.9388\n",
            "Epoch 43/50\n",
            "175/175 [==============================] - ETA: 0s - loss: 0.1297 - accuracy: 0.9557\n",
            "Epoch 43: val_accuracy did not improve from 0.94375\n",
            "175/175 [==============================] - 40s 229ms/step - loss: 0.1297 - accuracy: 0.9557 - val_loss: 0.2758 - val_accuracy: 0.9362\n",
            "Epoch 44/50\n",
            "175/175 [==============================] - ETA: 0s - loss: 0.1103 - accuracy: 0.9600\n",
            "Epoch 44: val_accuracy did not improve from 0.94375\n",
            "175/175 [==============================] - 40s 230ms/step - loss: 0.1103 - accuracy: 0.9600 - val_loss: 0.3099 - val_accuracy: 0.9325\n",
            "Epoch 45/50\n",
            "175/175 [==============================] - ETA: 0s - loss: 0.1158 - accuracy: 0.9611\n",
            "Epoch 45: val_accuracy did not improve from 0.94375\n",
            "175/175 [==============================] - 42s 240ms/step - loss: 0.1158 - accuracy: 0.9611 - val_loss: 0.2893 - val_accuracy: 0.9300\n",
            "Epoch 46/50\n",
            "175/175 [==============================] - ETA: 0s - loss: 0.1068 - accuracy: 0.9632\n",
            "Epoch 46: val_accuracy did not improve from 0.94375\n",
            "175/175 [==============================] - 41s 234ms/step - loss: 0.1068 - accuracy: 0.9632 - val_loss: 0.2664 - val_accuracy: 0.9375\n",
            "Epoch 47/50\n",
            "175/175 [==============================] - ETA: 0s - loss: 0.1248 - accuracy: 0.9618\n",
            "Epoch 47: val_accuracy did not improve from 0.94375\n",
            "175/175 [==============================] - 42s 237ms/step - loss: 0.1248 - accuracy: 0.9618 - val_loss: 0.2768 - val_accuracy: 0.9375\n",
            "Epoch 48/50\n",
            "175/175 [==============================] - ETA: 0s - loss: 0.1075 - accuracy: 0.9618\n",
            "Epoch 48: val_accuracy did not improve from 0.94375\n",
            "175/175 [==============================] - 41s 232ms/step - loss: 0.1075 - accuracy: 0.9618 - val_loss: 0.2518 - val_accuracy: 0.9438\n",
            "Epoch 49/50\n",
            "175/175 [==============================] - ETA: 0s - loss: 0.1135 - accuracy: 0.9621\n",
            "Epoch 49: val_accuracy did not improve from 0.94375\n",
            "175/175 [==============================] - 41s 231ms/step - loss: 0.1135 - accuracy: 0.9621 - val_loss: 0.3040 - val_accuracy: 0.9375\n",
            "Epoch 50/50\n",
            "175/175 [==============================] - ETA: 0s - loss: 0.1098 - accuracy: 0.9632\n",
            "Epoch 50: val_accuracy did not improve from 0.94375\n",
            "175/175 [==============================] - 40s 230ms/step - loss: 0.1098 - accuracy: 0.9632 - val_loss: 0.3452 - val_accuracy: 0.9300\n"
          ]
        },
        {
          "output_type": "execute_result",
          "data": {
            "text/plain": [
              "<keras.callbacks.History at 0x7f69f10e83a0>"
            ]
          },
          "metadata": {},
          "execution_count": 26
        }
      ]
    },
    {
      "cell_type": "markdown",
      "source": [
        "Сохранение модели в h5 формате"
      ],
      "metadata": {
        "id": "kRO7rOkiYaHY"
      }
    },
    {
      "cell_type": "code",
      "source": [
        "model.save('Mango_InceptionV3.h5')"
      ],
      "metadata": {
        "id": "eCWcuHZtWZLR"
      },
      "execution_count": null,
      "outputs": []
    },
    {
      "cell_type": "markdown",
      "source": [
        "Сохранение модели в SavedModel формате"
      ],
      "metadata": {
        "id": "aUQ8kSpxYgPE"
      }
    },
    {
      "cell_type": "code",
      "source": [
        "model.save('Mango_InceptionV3')\n",
        "path = 'Mango_InceptionV3'\n",
        "file_dir = os.listdir(path)\n",
        "\n",
        "with zipfile.ZipFile('Mango_InceptionV3.zip', mode='w', \\\n",
        "                     compression=zipfile.ZIP_DEFLATED) as zf:\n",
        "    for file in file_dir:\n",
        "        add_file = os.path.join(path, file)\n",
        "        zf.write(add_file)"
      ],
      "metadata": {
        "colab": {
          "base_uri": "https://localhost:8080/"
        },
        "id": "d3IJuxKtYnZw",
        "outputId": "24482d2a-cfcd-4b32-d410-bf033f2279a4"
      },
      "execution_count": null,
      "outputs": [
        {
          "output_type": "stream",
          "name": "stderr",
          "text": [
            "WARNING:absl:Found untraced functions such as _jit_compiled_convolution_op, _jit_compiled_convolution_op, _jit_compiled_convolution_op, _jit_compiled_convolution_op, _jit_compiled_convolution_op while saving (showing 5 of 94). These functions will not be directly callable after loading.\n"
          ]
        }
      ]
    },
    {
      "cell_type": "markdown",
      "source": [
        "#5. Оценка точности модели"
      ],
      "metadata": {
        "id": "rYv24v5G6Qo9"
      }
    },
    {
      "cell_type": "code",
      "source": [
        "pred_generator=test_datagen.flow_from_directory( test_dir, target_size=(224,224), batch_size=16, class_mode='categorical')\n",
        "scores = model.evaluate_generator(pred_generator, 25)\n",
        "print(\"Аккуратность на тестовых данных: %.2f%%\" % (scores[1]*100))"
      ],
      "metadata": {
        "id": "7OzCAEki6Uhk",
        "colab": {
          "base_uri": "https://localhost:8080/"
        },
        "outputId": "56290b76-9440-4493-dd7b-ef6eb93553e5"
      },
      "execution_count": null,
      "outputs": [
        {
          "output_type": "stream",
          "name": "stdout",
          "text": [
            "Found 400 images belonging to 8 classes.\n"
          ]
        },
        {
          "output_type": "stream",
          "name": "stderr",
          "text": [
            "<ipython-input-29-4804fdd92db1>:2: UserWarning: `Model.evaluate_generator` is deprecated and will be removed in a future version. Please use `Model.evaluate`, which supports generators.\n",
            "  scores = model.evaluate_generator(pred_generator, 25)\n"
          ]
        },
        {
          "output_type": "stream",
          "name": "stdout",
          "text": [
            "Аккуратность на тестовых данных: 97.00%\n"
          ]
        }
      ]
    },
    {
      "cell_type": "code",
      "source": [
        "print(model.history.history.params)"
      ],
      "metadata": {
        "colab": {
          "base_uri": "https://localhost:8080/",
          "height": 165
        },
        "id": "Kp2JEW0hnVQ5",
        "outputId": "abae5a25-89bf-4310-a7b4-0519cf955aa9"
      },
      "execution_count": null,
      "outputs": [
        {
          "output_type": "error",
          "ename": "AttributeError",
          "evalue": "ignored",
          "traceback": [
            "\u001b[0;31m---------------------------------------------------------------------------\u001b[0m",
            "\u001b[0;31mAttributeError\u001b[0m                            Traceback (most recent call last)",
            "\u001b[0;32m<ipython-input-61-cd748b86755b>\u001b[0m in \u001b[0;36m<cell line: 1>\u001b[0;34m()\u001b[0m\n\u001b[0;32m----> 1\u001b[0;31m \u001b[0mprint\u001b[0m\u001b[0;34m(\u001b[0m\u001b[0mmodel\u001b[0m\u001b[0;34m.\u001b[0m\u001b[0mhistory\u001b[0m\u001b[0;34m.\u001b[0m\u001b[0mhistory\u001b[0m\u001b[0;34m.\u001b[0m\u001b[0mparams\u001b[0m\u001b[0;34m)\u001b[0m\u001b[0;34m\u001b[0m\u001b[0;34m\u001b[0m\u001b[0m\n\u001b[0m",
            "\u001b[0;31mAttributeError\u001b[0m: 'dict' object has no attribute 'params'"
          ]
        }
      ]
    },
    {
      "cell_type": "code",
      "source": [
        "tr_acc = model.history.history['accuracy']\n",
        "tr_loss = model.history.history['loss']\n",
        "index_loss = np.argmin(val_loss)\n",
        "val_lowest = val_loss[index_loss]\n",
        "index_acc = np.argmax(val_acc)\n",
        "acc_highest = val_acc[index_acc]\n",
        "Epochs = [i+1 for i in range(len(tr_acc))]\n",
        "loss_label = f'best epoch= {str(index_loss + 1)}'\n",
        "acc_label = f'best epoch= {str(index_acc + 1)}'\n",
        "\n",
        "# Plot training history\n",
        "plt.figure(figsize= (20, 8))\n",
        "plt.style.use('fivethirtyeight')\n",
        "\n",
        "plt.subplot(1, 2, 1)\n",
        "plt.plot(Epochs, tr_loss, 'r', label= 'Training loss')\n",
        "plt.plot(Epochs, val_loss, 'g', label= 'Validation loss')\n",
        "plt.scatter(index_loss + 1, val_lowest, s= 150, c= 'blue', label= loss_label)\n",
        "plt.title('Training and Validation Loss')\n",
        "plt.xlabel('Epochs')\n",
        "plt.ylabel('Loss')\n",
        "plt.legend()\n",
        "\n",
        "plt.subplot(1, 2, 2)\n",
        "plt.plot(Epochs, tr_acc, 'r', label= 'Training Accuracy')\n",
        "plt.plot(Epochs, val_acc, 'g', label= 'Validation Accuracy')\n",
        "plt.scatter(index_acc + 1 , acc_highest, s= 150, c= 'blue', label= acc_label)\n",
        "plt.title('Training and Validation Accuracy')\n",
        "plt.xlabel('Epochs')\n",
        "plt.ylabel('Accuracy')\n",
        "plt.legend()\n",
        "\n",
        "plt.tight_layout\n",
        "plt.show()"
      ],
      "metadata": {
        "colab": {
          "base_uri": "https://localhost:8080/",
          "height": 235
        },
        "id": "xhFBtj2Mikz8",
        "outputId": "12fe6523-365e-4d92-b8bc-895f1a0fb9cd"
      },
      "execution_count": null,
      "outputs": [
        {
          "output_type": "error",
          "ename": "KeyError",
          "evalue": "ignored",
          "traceback": [
            "\u001b[0;31m---------------------------------------------------------------------------\u001b[0m",
            "\u001b[0;31mKeyError\u001b[0m                                  Traceback (most recent call last)",
            "\u001b[0;32m<ipython-input-51-8f8e4c7d0d40>\u001b[0m in \u001b[0;36m<cell line: 1>\u001b[0;34m()\u001b[0m\n\u001b[0;32m----> 1\u001b[0;31m \u001b[0mtr_acc\u001b[0m \u001b[0;34m=\u001b[0m \u001b[0mmodel\u001b[0m\u001b[0;34m.\u001b[0m\u001b[0mhistory\u001b[0m\u001b[0;34m.\u001b[0m\u001b[0mhistory\u001b[0m\u001b[0;34m[\u001b[0m\u001b[0;34m'accuracy'\u001b[0m\u001b[0;34m]\u001b[0m\u001b[0;34m\u001b[0m\u001b[0;34m\u001b[0m\u001b[0m\n\u001b[0m\u001b[1;32m      2\u001b[0m \u001b[0mtr_loss\u001b[0m \u001b[0;34m=\u001b[0m \u001b[0mmodel\u001b[0m\u001b[0;34m.\u001b[0m\u001b[0mhistory\u001b[0m\u001b[0;34m.\u001b[0m\u001b[0mhistory\u001b[0m\u001b[0;34m[\u001b[0m\u001b[0;34m'loss'\u001b[0m\u001b[0;34m]\u001b[0m\u001b[0;34m\u001b[0m\u001b[0;34m\u001b[0m\u001b[0m\n\u001b[1;32m      3\u001b[0m \u001b[0mindex_loss\u001b[0m \u001b[0;34m=\u001b[0m \u001b[0mnp\u001b[0m\u001b[0;34m.\u001b[0m\u001b[0margmin\u001b[0m\u001b[0;34m(\u001b[0m\u001b[0mval_loss\u001b[0m\u001b[0;34m)\u001b[0m\u001b[0;34m\u001b[0m\u001b[0;34m\u001b[0m\u001b[0m\n\u001b[1;32m      4\u001b[0m \u001b[0mval_lowest\u001b[0m \u001b[0;34m=\u001b[0m \u001b[0mval_loss\u001b[0m\u001b[0;34m[\u001b[0m\u001b[0mindex_loss\u001b[0m\u001b[0;34m]\u001b[0m\u001b[0;34m\u001b[0m\u001b[0;34m\u001b[0m\u001b[0m\n\u001b[1;32m      5\u001b[0m \u001b[0mindex_acc\u001b[0m \u001b[0;34m=\u001b[0m \u001b[0mnp\u001b[0m\u001b[0;34m.\u001b[0m\u001b[0margmax\u001b[0m\u001b[0;34m(\u001b[0m\u001b[0mval_acc\u001b[0m\u001b[0;34m)\u001b[0m\u001b[0;34m\u001b[0m\u001b[0;34m\u001b[0m\u001b[0m\n",
            "\u001b[0;31mKeyError\u001b[0m: 'accuracy'"
          ]
        }
      ]
    },
    {
      "cell_type": "markdown",
      "source": [
        "Проиллюстрируем работу модели"
      ],
      "metadata": {
        "id": "p2Lh3VR17Liz"
      }
    }
  ]
}